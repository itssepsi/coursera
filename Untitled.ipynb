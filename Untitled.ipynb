{
 "cells": [
  {
   "cell_type": "code",
   "execution_count": 1,
   "id": "0a0b9840-8e39-4288-9f2a-a8be2d996a94",
   "metadata": {},
   "outputs": [],
   "source": [
    "import pandas as pd\n",
    "from bs4 import BeautifulSoup\n",
    "import requests\n",
    "import yfinance as yf"
   ]
  },
  {
   "cell_type": "code",
   "execution_count": 11,
   "id": "24096b33-d451-4268-ac38-39263b8c0312",
   "metadata": {},
   "outputs": [
    {
     "name": "stdout",
     "output_type": "stream",
     "text": [
      "                       Date      Open      High       Low     Close  \\\n",
      "0 2010-06-29 00:00:00-04:00  1.266667  1.666667  1.169333  1.592667   \n",
      "1 2010-06-30 00:00:00-04:00  1.719333  2.028000  1.553333  1.588667   \n",
      "2 2010-07-01 00:00:00-04:00  1.666667  1.728000  1.351333  1.464000   \n",
      "3 2010-07-02 00:00:00-04:00  1.533333  1.540000  1.247333  1.280000   \n",
      "4 2010-07-06 00:00:00-04:00  1.333333  1.333333  1.055333  1.074000   \n",
      "\n",
      "      Volume  Dividends  Stock Splits  \n",
      "0  281494500        0.0           0.0  \n",
      "1  257806500        0.0           0.0  \n",
      "2  123282000        0.0           0.0  \n",
      "3   77097000        0.0           0.0  \n",
      "4  103003500        0.0           0.0  \n"
     ]
    }
   ],
   "source": [
    "#Extracting Tesla Stock Data Using yfinance \n",
    "tesla = yf.Ticker('TSLA')\n",
    "tesla_data = tesla.history(period='max')\n",
    "tesla_data.reset_index(inplace=True)\n",
    "print(tesla_data.head())\n"
   ]
  },
  {
   "cell_type": "code",
   "execution_count": 37,
   "id": "a4792045-84c7-413f-a68f-255bf91f5a9e",
   "metadata": {},
   "outputs": [],
   "source": [
    "from bs4 import BeautifulSoup\n",
    "import requests\n",
    "import pandas as pd"
   ]
  },
  {
   "cell_type": "code",
   "execution_count": 41,
   "id": "539d4b32-c0a8-4616-b44e-b07f34c3c115",
   "metadata": {},
   "outputs": [
    {
     "name": "stdout",
     "output_type": "stream",
     "text": [
      "<!DOCTYPE html>\n",
      "<html lang=\"en-us\">\n",
      " <head>\n",
      "  <meta content=\"text/html; charset=utf-8\" http-equiv=\"content-type\"/>\n",
      "  <meta charset=\"utf-8\"/>\n",
      "  <title>\n",
      "   Yahoo\n",
      "  </title>\n",
      "  <meta content=\"width=device-width,initial-scale=1,minimal-ui\" name=\"viewport\"/>\n",
      "  <meta content=\"IE=edge,chrome=1\" http-equiv=\"X-UA-Compatible\"/>\n",
      "  <style>\n",
      "   html {\n",
      "      height: 100%;\n",
      "  }\n",
      "  body {\n",
      "      background: #fafafc url(https://s.yimg.com/nn/img/sad-panda-201402200631.png) 50% 50%;\n",
      "      background-size: cover;\n",
      "      height: 100%;\n",
      "      text-align: center;\n",
      "      font: 300 18px \"helvetica neue\", helvetica, verdana, tahoma, arial, sans-serif;\n",
      "  }\n",
      "  table {\n",
      "      height: 100%;\n",
      "      width: 100%;\n",
      "      table-layout: fixed;\n",
      "      border-collapse: collapse;\n",
      "      border-spacing: 0;\n",
      "      border: none;\n",
      "  }\n",
      "  h1 {\n",
      "      font-size: 42px;\n",
      "      font-weight: 400;\n",
      "      color: #400090;\n",
      "  }\n",
      "  p {\n",
      "      color: #1A1A1A;\n",
      "  }\n",
      "  #message-1 {\n",
      "      font-weight: bold;\n",
      "      margin: 0;\n",
      "  }\n",
      "  #message-2 {\n",
      "      display: inline-block;\n",
      "      *display: inline;\n",
      "      zoom: 1;\n",
      "      max-width: 17em;\n",
      "      _width: 17em;\n",
      "  }\n",
      "  </style>\n",
      "  <script>\n",
      "   document.write('<img src=\"//geo.yahoo.com/b?s=1197757129&t='+new Date().getTime()+'&src=aws&err_url='+encodeURIComponent(document.URL)+'&err=%<pssc>&test='+encodeURIComponent('%<{Bucket}cqh[:200]>')+'\" width=\"0px\" height=\"0px\"/>');var beacon = new Image();beacon.src=\"//bcn.fp.yahoo.com/p?s=1197757129&t=\"+new Date().getTime()+\"&src=aws&err_url=\"+encodeURIComponent(document.URL)+\"&err=%<pssc>&test=\"+encodeURIComponent('%<{Bucket}cqh[:200]>');\n",
      "  </script>\n",
      " </head>\n",
      " <body>\n",
      "  <!-- status code : 404 -->\n",
      "  <!-- Not Found on Server -->\n",
      "  <table>\n",
      "   <tbody>\n",
      "    <tr>\n",
      "     <td>\n",
      "      <img alt=\"Yahoo Logo\" src=\"https://s.yimg.com/rz/p/yahoo_frontpage_en-US_s_f_p_205x58_frontpage.png\"/>\n",
      "      <h1 style=\"margin-top:20px;\">\n",
      "       Will be right back...\n",
      "      </h1>\n",
      "      <p id=\"message-1\">\n",
      "       Thank you for your patience.\n",
      "      </p>\n",
      "      <p id=\"message-2\">\n",
      "       Our engineers are working quickly to resolve the issue.\n",
      "      </p>\n",
      "     </td>\n",
      "    </tr>\n",
      "   </tbody>\n",
      "  </table>\n",
      " </body>\n",
      "</html>\n",
      "\n"
     ]
    }
   ],
   "source": [
    "#Extracting Tesla Revenue Data Using Webscraping\n",
    "import requests\n",
    "from bs4 import BeautifulSoup\n",
    "\n",
    "url = \"https://finance.yahoo.com/quote/TSLA/financials\"\n",
    "response = requests.get(url)\n",
    "\n",
    "soup = BeautifulSoup(response.text, 'html.parser')\n",
    "\n",
    "print(soup.prettify())\n"
   ]
  },
  {
   "cell_type": "code",
   "execution_count": 52,
   "id": "95e146ca-547e-4260-b1a0-76e348257358",
   "metadata": {},
   "outputs": [
    {
     "name": "stderr",
     "output_type": "stream",
     "text": [
      "[*********************100%***********************]  1 of 1 completed"
     ]
    },
    {
     "name": "stdout",
     "output_type": "stream",
     "text": [
      "              Open    High     Low   Close  Adj Close    Volume\n",
      "Date                                                           \n",
      "2020-01-02  1.5350  1.6175  1.5175  1.5775     1.5775  17814400\n",
      "2020-01-03  1.5525  1.5625  1.4600  1.4700     1.4700  14175600\n",
      "2020-01-06  1.4500  1.4775  1.4000  1.4625     1.4625  13579200\n",
      "2020-01-07  1.4425  1.4575  1.3600  1.3800     1.3800  20912000\n",
      "2020-01-08  1.3725  1.4625  1.3525  1.4300     1.4300  22517600\n"
     ]
    },
    {
     "name": "stderr",
     "output_type": "stream",
     "text": [
      "\n"
     ]
    }
   ],
   "source": [
    "# Extracting GameStop Stock Data Using yfinance\n",
    "import yfinance as yf\n",
    "gme_data = yf.download(\"GME\", start=\"2020-01-01\", end=\"2023-01-01\")\n",
    "print(gme_data.head())\n",
    "gme_data.to_csv('gamestop_stock_data.csv')\n"
   ]
  },
  {
   "cell_type": "code",
   "execution_count": null,
   "id": "312c9bf1-89d5-42ac-879a-6ec32fa184cf",
   "metadata": {},
   "outputs": [],
   "source": [
    "#Extracting GameStop Revenue Data Using Webscraping\n",
    "url = 'https://finance.yahoo.com/quote/GME/financials'\n",
    "response = requests.get(url)\n",
    "soup = BeautifulSoup(response.text, 'html.parser')\n",
    "revenue_data = []\n",
    "table = soup.find('div', {'class': 'D(tbrg)'})\n",
    "if table:\n",
    "    for row in table.find_all('div', {'class': 'D(tbr)'}):\n",
    "        cells = row.find_all('span')\n",
    "        if len(cells) > 1:\n",
    "            label = cells[0].get_text()\n",
    "            revenue = cells[1].get_text()\n",
    "            revenue_data.append([label, revenue])\n",
    "else:\n",
    "    print(\"Revenue table not found\")\n",
    "\n",
    "df = pd.DataFrame(revenue_data, columns=['Year', 'Revenue'])\n",
    "print(df)\n"
   ]
  },
  {
   "cell_type": "code",
   "execution_count": null,
   "id": "f08f8203-1d8e-4c98-b8a4-55ac8b274426",
   "metadata": {},
   "outputs": [],
   "source": [
    "#Tesla Stock and Revenue Dashboardimport requests\n",
    "from bs4 import BeautifulSoup\n",
    "import pandas as pd\n",
    "\n",
    "url = \"https://finance.yahoo.com/quote/TSLA/financials\"\n",
    "response = requests.get(url)\n",
    "\n",
    "soup = BeautifulSoup(response.text, 'html.parser')\n",
    "\n",
    "table = soup.find('div', {'class': 'D(tbrg)'})\n",
    "\n",
    "revenue_data = []\n",
    "\n",
    "if table:\n",
    "    for row in table.find_all('div', {'class': 'D(tbr)'}):\n",
    "        cells = row.find_all('span')\n",
    "        if len(cells) > 1:\n",
    "            label = cells[0].get_text()\n",
    "            revenue = cells[1].get_text()\n",
    "            revenue_data.append([label, revenue])\n",
    "\n",
    "df = pd.DataFrame(revenue_data, columns=['Year', 'Revenue'])\n",
    "print(df)\n",
    "\n",
    "df.to_csv('tesla_revenue_data.csv', index=False)\n"
   ]
  },
  {
   "cell_type": "code",
   "execution_count": null,
   "id": "f2acd01a-ac18-47cf-ac57-f8f9b775f43a",
   "metadata": {},
   "outputs": [],
   "source": [
    "#GameStop Stock and Revenue Dashboard\n"
   ]
  }
 ],
 "metadata": {
  "kernelspec": {
   "display_name": "Python 3 (ipykernel)",
   "language": "python",
   "name": "python3"
  },
  "language_info": {
   "codemirror_mode": {
    "name": "ipython",
    "version": 3
   },
   "file_extension": ".py",
   "mimetype": "text/x-python",
   "name": "python",
   "nbconvert_exporter": "python",
   "pygments_lexer": "ipython3",
   "version": "3.12.4"
  }
 },
 "nbformat": 4,
 "nbformat_minor": 5
}
